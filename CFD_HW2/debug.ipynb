{
 "cells": [
  {
   "cell_type": "code",
   "execution_count": 1,
   "metadata": {},
   "outputs": [],
   "source": [
    "from Nozzle_1D import Nozzle\n",
    "temp = Nozzle(\"Coarse_inputs.nml\")\n",
    "import matplotlib.pyplot as plt\n",
    "import numpy as np"
   ]
  },
  {
   "cell_type": "code",
   "execution_count": 2,
   "metadata": {},
   "outputs": [],
   "source": [
    "%%bash \n",
    "gcc -shared -o c_functions.so -fPIC functions.c"
   ]
  },
  {
   "cell_type": "code",
   "execution_count": null,
   "metadata": {},
   "outputs": [],
   "source": []
  },
  {
   "cell_type": "code",
   "execution_count": 5,
   "metadata": {},
   "outputs": [],
   "source": [
    "temp.set_arrays()\n",
    "##U = np.random.rand(*temp.U.shape)\n",
    "#V = temp.primitive_to_conserved(U)[0]\n",
    "#temp_U = temp.conserved_to_primitive(V)"
   ]
  },
  {
   "cell_type": "code",
   "execution_count": 6,
   "metadata": {},
   "outputs": [],
   "source": [
    "temp.set_geometry()\n",
    "temp.set_initial_conditions()\n",
    "temp.set_boundary_conditions()\n",
    "\n",
    "R1 = temp.iteration_step()\n",
    "temp.set_boundary_conditions()\n"
   ]
  },
  {
   "cell_type": "code",
   "execution_count": null,
   "metadata": {},
   "outputs": [],
   "source": []
  },
  {
   "cell_type": "markdown",
   "metadata": {},
   "source": [
    "print(temp.V)"
   ]
  },
  {
   "cell_type": "code",
   "execution_count": null,
   "metadata": {},
   "outputs": [],
   "source": [
    "convergence_history = []\n",
    "changecfl_tolerance = .01\n",
    "for i in range(300000):\n",
    "    \n",
    "    R = temp.iteration_step()\n",
    "    if i%100 == 0:\n",
    "        print(np.max(R/R1))\n",
    "        convergence_history.append(R/R1)\n",
    "    temp.set_boundary_conditions()\n",
    "    if np.max(R/R1)<10e-12:\n",
    "        print(\"Converged\")\n",
    "        break\n",
    "p_compute = temp.V[:,2]\n",
    "u_compute = temp.V[:,1]\n",
    "rho_compute = temp.V[:,0]\n",
    "plt.plot(p_compute[1:],\"-o\")\n"
   ]
  },
  {
   "cell_type": "code",
   "execution_count": null,
   "metadata": {},
   "outputs": [],
   "source": [
    "ch = np.array(convergence_history)\n",
    "plt.semilogy(ch[:,0])"
   ]
  },
  {
   "cell_type": "code",
   "execution_count": null,
   "metadata": {},
   "outputs": [],
   "source": [
    "rho,u,p = temp.exact_isentropic()\n",
    "p = np.array(p)"
   ]
  },
  {
   "cell_type": "code",
   "execution_count": null,
   "metadata": {},
   "outputs": [],
   "source": [
    "p_average = (p[1:]+p[0:-1])/2\n",
    "plt.plot(p_average-p_compute[1:-1])"
   ]
  },
  {
   "cell_type": "code",
   "execution_count": null,
   "metadata": {},
   "outputs": [],
   "source": [
    "plt.plot(p_compute)\n",
    "plt.plot(p_average)"
   ]
  },
  {
   "cell_type": "code",
   "execution_count": null,
   "metadata": {},
   "outputs": [],
   "source": [
    "temp.nu().shape"
   ]
  }
 ],
 "metadata": {
  "kernelspec": {
   "display_name": "PyTorch",
   "language": "python",
   "name": "python3"
  },
  "language_info": {
   "codemirror_mode": {
    "name": "ipython",
    "version": 3
   },
   "file_extension": ".py",
   "mimetype": "text/x-python",
   "name": "python",
   "nbconvert_exporter": "python",
   "pygments_lexer": "ipython3",
   "version": "3.11.5"
  }
 },
 "nbformat": 4,
 "nbformat_minor": 2
}
