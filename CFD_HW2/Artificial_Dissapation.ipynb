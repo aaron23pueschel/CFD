{
 "cells": [
  {
   "cell_type": "code",
   "execution_count": null,
   "metadata": {},
   "outputs": [],
   "source": [
    "from Nozzle_1D import Nozzle\n",
    "import matplotlib.pyplot as plt\n",
    "import numpy as np\n",
    "import pickle"
   ]
  },
  {
   "cell_type": "code",
   "execution_count": null,
   "metadata": {},
   "outputs": [],
   "source": [
    "tolerance = 1e-5"
   ]
  },
  {
   "cell_type": "code",
   "execution_count": null,
   "metadata": {},
   "outputs": [],
   "source": [
    "# Initialize MEDIUM with inputs\n",
    "MEDIUM = Nozzle(\"inputs/Medium_inputs.nml\")\n",
    "\n",
    "p_compute_Medium,u_compute_Medium,rho_compute_Medium,p_exact_Medium,\\\n",
    "    u_exact_Medium,rho_exact_Medium,convergence_history_Medium = MEDIUM.RUN_SIMULATION(verbose = True,convergence_criteria=1e-5)"
   ]
  }
 ],
 "metadata": {
  "kernelspec": {
   "display_name": "PyTorch",
   "language": "python",
   "name": "python3"
  },
  "language_info": {
   "name": "python",
   "version": "3.11.5"
  }
 },
 "nbformat": 4,
 "nbformat_minor": 2
}
