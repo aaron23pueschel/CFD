{
 "cells": [
  {
   "cell_type": "code",
   "execution_count": 1,
   "metadata": {},
   "outputs": [
    {
     "data": {
      "text/plain": [
       "array([3., 4., 5., 6., 7., 8.])"
      ]
     },
     "execution_count": 1,
     "metadata": {},
     "output_type": "execute_result"
    }
   ],
   "source": [
    "import numpy as np\n",
    "test = np.linspace(1,10,10)\n",
    "test[2:-2]"
   ]
  },
  {
   "cell_type": "code",
   "execution_count": 2,
   "metadata": {},
   "outputs": [],
   "source": [
    "from Nozzle_1D import Nozzle\n",
    "temp = Nozzle(\"inputs.nml\")\n",
    "import matplotlib.pyplot as plt"
   ]
  },
  {
   "cell_type": "code",
   "execution_count": null,
   "metadata": {},
   "outputs": [
    {
     "data": {
      "text/plain": [
       "(10, 3)"
      ]
     },
     "execution_count": 3,
     "metadata": {},
     "output_type": "execute_result"
    }
   ],
   "source": [
    "temp.set_geometry()\n",
    "temp.set_initial_conditions()\n",
    "temp.set_boundary_conditions()\n",
    "temp.set_conserved_variables()\n",
    "temp.set_primitive_variables()\n",
    "temp.set_source_term()"
   ]
  },
  {
   "cell_type": "code",
   "execution_count": 4,
   "metadata": {},
   "outputs": [
    {
     "data": {
      "text/plain": [
       "array([0.        , 0.        , 0.        , 0.        , 0.33333333,\n",
       "       0.66666667, 1.        , 1.33333333, 1.66666667, 2.        ])"
      ]
     },
     "execution_count": 4,
     "metadata": {},
     "output_type": "execute_result"
    }
   ],
   "source": [
    "import numpy as np\n",
    "np.maximum(0,np.linspace(-1,2,10))"
   ]
  },
  {
   "cell_type": "code",
   "execution_count": 43,
   "metadata": {},
   "outputs": [
    {
     "name": "stdout",
     "output_type": "stream",
     "text": [
      "[300.         344.13651731 385.23337172 311.89028896 270.82767847\n",
      " 208.48217389 132.19169105  93.30633096  82.96091829  76.84935221]\n"
     ]
    },
    {
     "data": {
      "text/plain": [
       "[<matplotlib.lines.Line2D at 0x7f628d12cd50>]"
      ]
     },
     "execution_count": 43,
     "metadata": {},
     "output_type": "execute_result"
    },
    {
     "data": {
      "image/png": "[encoded data removed]",
      "text/plain": [
       "<Figure size 640x480 with 1 Axes>"
      ]
     },
     "metadata": {},
     "output_type": "display_data"
    }
   ],
   "source": [
    "for i in range(10):\n",
    "    temp.iteration_step()\n",
    "    temp.update_all()\n",
    "print(temp.p)\n",
    "plt.plot(temp.p)"
   ]
  },
  {
   "cell_type": "code",
   "execution_count": null,
   "metadata": {},
   "outputs": [],
   "source": []
  },
  {
   "cell_type": "code",
   "execution_count": 6,
   "metadata": {},
   "outputs": [
    {
     "ename": "NameError",
     "evalue": "name 'sadf' is not defined",
     "output_type": "error",
     "traceback": [
      "\u001b[0;31m---------------------------------------------------------------------------\u001b[0m",
      "\u001b[0;31mNameError\u001b[0m                                 Traceback (most recent call last)",
      "Cell \u001b[0;32mIn[6], line 1\u001b[0m\n\u001b[0;32m----> 1\u001b[0m \u001b[43msadf\u001b[49m\n",
      "\u001b[0;31mNameError\u001b[0m: name 'sadf' is not defined"
     ]
    }
   ],
   "source": [
    "\n",
    "sadf"
   ]
  },
  {
   "cell_type": "code",
   "execution_count": null,
   "metadata": {},
   "outputs": [],
   "source": [
    "import numpy as np"
   ]
  },
  {
   "cell_type": "code",
   "execution_count": null,
   "metadata": {},
   "outputs": [],
   "source": [
    "def T(gamma,M,T0):\n",
    "    return T0/psi(gamma,M)\n",
    "\n",
    "def P(gamma,M,P0):\n",
    "    return P0/(psi(gamma,M)**(gamma/(gamma-1)))\n",
    "def rho(P,R,T):\n",
    "    return P/(R*T)\n",
    "def u(gamma,M,R,T):\n",
    "    return M*np.sqrt(gamma*R*T)\n",
    "\n",
    "def psi(gamma,M):\n",
    "    return 1+((gamma-1)/2)*M**2\n",
    "def conserved_to_primitive(U, gamma=1.4):\n",
    "    rho = U[0]  # Density\n",
    "    u = U[1] / rho  # Velocity\n",
    "    p = (gamma - 1) * (U[2] - 0.5 * rho * u**2)  # Pressure\n",
    "\n",
    "    return np.array([rho, u, p])\n",
    "def primitive_to_conserved(V,gamma=1.4):\n",
    "    pass\n",
    "def set_boundary_conditions():\n",
    "    pass"
   ]
  },
  {
   "cell_type": "code",
   "execution_count": null,
   "metadata": {},
   "outputs": [],
   "source": [
    "# Case 1\n",
    "NI = 11\n",
    "p0 = 300 #kPa\n",
    "T0 = 600 #K\n",
    "Ru = 8314\n",
    "M = 28.97 \n",
    "R = Ru/M\n",
    "p_inf = 101 #kpa\n",
    "T_inf = 293 #K\n",
    "x = np.linspace(-1,1,NI)\n",
    "A = np.zeros((x.shape[0]+2))\n",
    "A[1:-1] = .2+.4*(1+np.sin(np.pi*(x-.5)))\n",
    "A[0] = 2*A[1]-A[2]\n",
    "A[-1] = 2*A[-2]-A[-3]\n",
    "\n",
    "A = (A[1:] + A[0:-1])/2 # A is half values\n",
    "\n",
    "p = np.zeros(NI-1)+p_inf # plus ghost nodes\n",
    "u = np.zeros_like(p)\n",
    "rho = np.zeros_like(p)+p_inf/(R*T_inf)\n",
    "deltat = .0000001\n",
    "deltax = x[1]-x[0]\n",
    "S = np.zeros((3,NI+2))\n",
    "gamma = 1.4\n",
    "\n"
   ]
  },
  {
   "cell_type": "code",
   "execution_count": null,
   "metadata": {},
   "outputs": [],
   "source": [
    "u.shape"
   ]
  },
  {
   "cell_type": "code",
   "execution_count": null,
   "metadata": {},
   "outputs": [],
   "source": [
    "rho.shape"
   ]
  },
  {
   "cell_type": "code",
   "execution_count": null,
   "metadata": {},
   "outputs": [],
   "source": [
    "T = p/(rho*R)\n",
    "et = (R/(gamma-1))*T+.5*(u**2)\n",
    "ht = (gamma*R/(gamma-1))*T+.5*u**2\n",
    "F = np.zeros((u.shape[0]+2,3))\n",
    "U = np.zeros_like(F)\n",
    "U[1:-1] = np.array([rho,rho*u,rho*et]).T\n",
    "F[1:-1] = np.array([rho*u,rho*u**2+p,rho*u*ht]).T\n",
    "V = np.zeros_like(U)\n"
   ]
  },
  {
   "cell_type": "code",
   "execution_count": null,
   "metadata": {},
   "outputs": [],
   "source": [
    "rho.shape"
   ]
  },
  {
   "cell_type": "code",
   "execution_count": null,
   "metadata": {},
   "outputs": [],
   "source": [
    "# Extrapolate ghost nodes\n",
    "F[0] = 2*F[1]-F[2]\n",
    "F[-1] = 2*F[-2]-F[-3]\n",
    "\n",
    "U[0] = 2*U[1]-U[2]\n",
    "U[-1] = 2*U[-2]-U[-3]\n",
    "\n",
    "A[0] = 2*A[1]-A[2]\n",
    "A[-1] = 2*A[-2]-A[-3]"
   ]
  },
  {
   "cell_type": "code",
   "execution_count": null,
   "metadata": {},
   "outputs": [],
   "source": [
    "def primitive_to_conserved(V,gamma=1.4,R=1):\n",
    "    T = p/(rho*R)\n",
    "    et = (R/(gamma-1))*T+.5*(u**2)\n",
    "    ht = (gamma*R/(gamma-1))*T+.5*u**2\n",
    "    U = np.array([rho,rho*u,rho*et]).T\n",
    "    F = np.array([rho*u,rho*u**2+p,rho*u*ht]).T\n",
    "    V = np.zeros_like(U)\n"
   ]
  },
  {
   "cell_type": "code",
   "execution_count": null,
   "metadata": {},
   "outputs": [],
   "source": [
    "A.shape"
   ]
  },
  {
   "cell_type": "code",
   "execution_count": null,
   "metadata": {},
   "outputs": [],
   "source": [
    "S = np.zeros_like(F)\n",
    "for i in range(NI-1):\n",
    "    #S[i+1,1]=p[i]*(A[i+1]-A[i])\n",
    "    S[i+1,1]=p[i]*0.4 * np.pi * np.cos(np.pi * (x[i] - 0.5))\n"
   ]
  },
  {
   "cell_type": "code",
   "execution_count": null,
   "metadata": {},
   "outputs": [],
   "source": [
    "S.shape"
   ]
  },
  {
   "cell_type": "code",
   "execution_count": null,
   "metadata": {},
   "outputs": [],
   "source": [
    "A"
   ]
  },
  {
   "cell_type": "code",
   "execution_count": null,
   "metadata": {},
   "outputs": [],
   "source": [
    "for t in range(3000):\n",
    "    for i in range(1,NI):\n",
    "        Volume = (A[i])*deltax/2\n",
    "        U[i] = U[i]-(F[i+1]*A[i+1]-F[i-1]*A[i-1] -S[i]*deltax)*deltat/(Volume)\n",
    "        V[i]=conserved_to_primitive(U[i])\n",
    "    F[0] = 2*F[1]-F[2]\n",
    "    F[-1] = 2*F[-2]-F[-3]\n",
    "\n",
    "    U[0] = 2*U[1]-U[2]\n",
    "    U[-1] = 2*U[-2]-U[-3]\n",
    "    V[-1] = conserved_to_primitive(U[-1])\n",
    "    V[0] = conserved_to_primitive(U[0])\n",
    "\n",
    "\n",
    "\n",
    "    rho = V[:,0]\n",
    "   # print(rho)\n",
    "    u = V[:,1]\n",
    "    p = V[:,2]\n",
    "    p[1] = p0\n",
    "    p[-2] = p_inf\n",
    "    rho[1] = p0/(R*T0)\n",
    "    for i in range(NI-1):\n",
    "        S[i+1,1]=p[i]*0.4 * np.pi * np.cos(np.pi * (x[i] - 0.5))\n",
    "    \n",
    "\n",
    "\n",
    "    \n",
    "    T = p/(rho*R)\n",
    "    et = (R/(gamma-1))*T+.5*(u**2)\n",
    "    ht = (gamma*R/(gamma-1))*T+.5*u**2\n",
    "    U = np.array([rho,rho*u,rho*et]).T\n",
    "    F = np.array([rho*u,rho*u**2+p,rho*u*ht]).T\n",
    "    print(p)\n"
   ]
  },
  {
   "cell_type": "code",
   "execution_count": null,
   "metadata": {},
   "outputs": [],
   "source": [
    "import matplotlib.pyplot as plt"
   ]
  },
  {
   "cell_type": "code",
   "execution_count": null,
   "metadata": {},
   "outputs": [],
   "source": [
    "plt.plot(p)"
   ]
  }
 ],
 "metadata": {
  "kernelspec": {
   "display_name": "PyTorch",
   "language": "python",
   "name": "python3"
  },
  "language_info": {
   "codemirror_mode": {
    "name": "ipython",
    "version": 3
   },
   "file_extension": ".py",
   "mimetype": "text/x-python",
   "name": "python",
   "nbconvert_exporter": "python",
   "pygments_lexer": "ipython3",
   "version": "3.11.5"
  }
 },
 "nbformat": 4,
 "nbformat_minor": 2
}
