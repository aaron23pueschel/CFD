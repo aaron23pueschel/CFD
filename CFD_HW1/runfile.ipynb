{
 "cells": [
  {
   "cell_type": "code",
   "execution_count": 1,
   "metadata": {},
   "outputs": [],
   "source": [
    "import numpy as np\n",
    "import ctypes\n",
    "import matplotlib.pyplot as plt\n",
    "from cfunctions import C_FUNCTIONS as functions"
   ]
  },
  {
   "cell_type": "code",
   "execution_count": 2,
   "metadata": {},
   "outputs": [],
   "source": [
    "%%bash \n",
    "gcc -shared -o c_functions.so -fPIC functions.c"
   ]
  },
  {
   "cell_type": "code",
   "execution_count": 3,
   "metadata": {},
   "outputs": [],
   "source": [
    "## C functions\n",
    "FM = functions().FM()\n",
    "DfdM = functions().DfdM()\n",
    "newton = functions().newton()"
   ]
  },
  {
   "cell_type": "code",
   "execution_count": 5,
   "metadata": {},
   "outputs": [
    {
     "name": "stdout",
     "output_type": "stream",
     "text": [
      "NEWTON SOLUTION\n",
      "\n",
      "x      Mach            Temperature         Pressure          Density            Velocity\n",
      "--------------------------------------------------------------------------------\n",
      "-1.0, 0.11668889438290, 598.37048183234060, 297.15801095372518, 0.00172983953604, 57.22480938755520\n",
      "-0.5, 0.19744878002699, 595.35787312283924, 291.95453964318403, 0.00170814867616, 96.58579402599084\n",
      "0.0, 1.00000000000010, 499.99999999998334, 158.48453631513377, 0.00110409241561, 448.28556161381624\n",
      "0.5, 2.63741584931082, 250.92083005261301, 14.18960750488518, 0.00019698003240, 837.56152434603212\n",
      "1.0, 3.17478015416511, 198.94916342026124, 6.29780615264275, 0.00011026449910, 897.74803793469539\n"
     ]
    }
   ],
   "source": [
    "# Set parameters\n",
    "P0 = 300\n",
    "T0 = 600\n",
    "gamma = ctypes.c_double(1.4)\n",
    "tolerance = ctypes.c_double(1e-12)\n",
    "\n",
    "# Compute A(x)\n",
    "x = np.linspace(-1,1,5)\n",
    "A_x = 0.2 + 0.4*(1 + np.sin(np.pi*(x - 0.5)))\n",
    "A_star = 0.2 + 0.4*(1 + np.sin(np.pi*(0 - 0.5)))\n",
    "A_bar = A_x/A_star\n",
    "\n",
    "print(\"NEWTON SOLUTION\\n\")\n",
    "# Main loop\n",
    "print(\"x\", \"     Mach\",\"           Temperature\",\"        Pressure\",\"         Density\",\"           Velocity\")\n",
    "print(\"--------------------------------------------------------------------------------\")\n",
    "for i,A_ in enumerate(A_bar):\n",
    "    A_ = ctypes.c_double(A_)\n",
    "    if x[i]<0:\n",
    "        initial_mach = ctypes.c_double(.3)\n",
    "\n",
    "    elif x[i]==0:\n",
    "        initial_mach = ctypes.c_double(1+10e-14)\n",
    "    else:\n",
    "        initial_mach = ctypes.c_double(3)\n",
    "    R = 8314/28.96\n",
    "    M = (newton(gamma,A_,initial_mach,tolerance))\n",
    "    T = functions.T(gamma.value,M,T0)\n",
    "    P = functions.P(gamma.value,M,P0)\n",
    "    U = functions.u(gamma.value,M,R,T)\n",
    "    rho = functions.rho(P,R,T)\n",
    "\n",
    "    print(f\"{x[i]:}, {M:.14f}, {T:.14f}, {P:.14f}, {rho:.14f}, {U:.14f}\")\n",
    "\n"
   ]
  }
 ],
 "metadata": {
  "kernelspec": {
   "display_name": "PyTorch",
   "language": "python",
   "name": "python3"
  },
  "language_info": {
   "codemirror_mode": {
    "name": "ipython",
    "version": 3
   },
   "file_extension": ".py",
   "mimetype": "text/x-python",
   "name": "python",
   "nbconvert_exporter": "python",
   "pygments_lexer": "ipython3",
   "version": "3.11.5"
  }
 },
 "nbformat": 4,
 "nbformat_minor": 2
}
