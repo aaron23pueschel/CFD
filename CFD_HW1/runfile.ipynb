{
 "cells": [
  {
   "cell_type": "code",
   "execution_count": 1,
   "metadata": {},
   "outputs": [
    {
     "ename": "ModuleNotFoundError",
     "evalue": "No module named 'cfunctions'",
     "output_type": "error",
     "traceback": [
      "\u001b[0;31m---------------------------------------------------------------------------\u001b[0m",
      "\u001b[0;31mModuleNotFoundError\u001b[0m                       Traceback (most recent call last)",
      "Cell \u001b[0;32mIn[1], line 4\u001b[0m\n\u001b[1;32m      2\u001b[0m \u001b[38;5;28;01mimport\u001b[39;00m \u001b[38;5;21;01mctypes\u001b[39;00m\n\u001b[1;32m      3\u001b[0m \u001b[38;5;28;01mimport\u001b[39;00m \u001b[38;5;21;01mmatplotlib\u001b[39;00m\u001b[38;5;21;01m.\u001b[39;00m\u001b[38;5;21;01mpyplot\u001b[39;00m \u001b[38;5;28;01mas\u001b[39;00m \u001b[38;5;21;01mplt\u001b[39;00m\n\u001b[0;32m----> 4\u001b[0m \u001b[38;5;28;01mfrom\u001b[39;00m \u001b[38;5;21;01mcfunctions\u001b[39;00m \u001b[38;5;28;01mimport\u001b[39;00m C_FUNCTIONS \u001b[38;5;28;01mas\u001b[39;00m functions\n",
      "\u001b[0;31mModuleNotFoundError\u001b[0m: No module named 'cfunctions'"
     ]
    }
   ],
   "source": [
    "import numpy as np\n",
    "import ctypes\n",
    "import matplotlib.pyplot as plt\n",
    "from cfunctions import C_FUNCTIONS as functions"
   ]
  },
  {
   "cell_type": "code",
   "execution_count": null,
   "metadata": {},
   "outputs": [],
   "source": [
    "%%bash \n",
    "gcc -shared -o c_functions.so -fPIC functions.c"
   ]
  },
  {
   "cell_type": "code",
   "execution_count": null,
   "metadata": {},
   "outputs": [],
   "source": [
    "## C functions\n",
    "FM = functions().FM()\n",
    "DfdM = functions().DfdM()\n",
    "newton = functions().newton()"
   ]
  },
  {
   "cell_type": "code",
   "execution_count": null,
   "metadata": {},
   "outputs": [],
   "source": [
    "# Set parameters\n",
    "P0 = 300\n",
    "T0 = 600\n",
    "gamma = ctypes.c_double(1.4)\n",
    "tolerance = ctypes.c_double(1e-12)\n",
    "\n",
    "# Compute A(x)\n",
    "x = np.linspace(-1,1,510)\n",
    "A_x = 0.2 + 0.4*(1 + np.sin(np.pi*(x - 0.5)))\n",
    "A_star = 0.2 + 0.4*(1 + np.sin(np.pi*(0 - 0.5)))\n",
    "A_bar = A_x/A_star\n",
    "p = []\n",
    "print(\"NEWTON SOLUTION\\n\")\n",
    "# Main loop\n",
    "print(\"x\", \"     Mach\",\"           Temperature\",\"        Pressure\",\"         Density\",\"           Velocity\")\n",
    "print(\"--------------------------------------------------------------------------------\")\n",
    "for i,A_ in enumerate(A_bar):\n",
    "    A_ = ctypes.c_double(A_)\n",
    "    if x[i]<0:\n",
    "        initial_mach = ctypes.c_double(.3)\n",
    "\n",
    "    elif x[i]==0:\n",
    "        initial_mach = ctypes.c_double(1+10e-14)\n",
    "    else:\n",
    "        initial_mach = ctypes.c_double(3)\n",
    "    R = 8314/28.96\n",
    "    M = (newton(gamma,A_,initial_mach,tolerance))\n",
    "    T = functions.T(gamma.value,M,T0)\n",
    "    P = functions.P(gamma.value,M,P0)\n",
    "    U = functions.u(gamma.value,M,R,T)\n",
    "    rho = functions.rho(P,R,T)\n",
    "    p.append(P)\n",
    "    print(f\"{x[i]:}, {M:.14f}, {T:.14f}, {P:.14f}, {rho:.14f}, {U:.14f}\")\n",
    "\n"
   ]
  },
  {
   "cell_type": "code",
   "execution_count": null,
   "metadata": {},
   "outputs": [],
   "source": [
    "plt.plot(p)"
   ]
  }
 ],
 "metadata": {
  "kernelspec": {
   "display_name": "PyTorch",
   "language": "python",
   "name": "python3"
  },
  "language_info": {
   "codemirror_mode": {
    "name": "ipython",
    "version": 3
   },
   "file_extension": ".py",
   "mimetype": "text/x-python",
   "name": "python",
   "nbconvert_exporter": "python",
   "pygments_lexer": "ipython3",
   "version": "3.11.5"
  }
 },
 "nbformat": 4,
 "nbformat_minor": 2
}
