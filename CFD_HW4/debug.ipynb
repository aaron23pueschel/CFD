{
 "cells": [
  {
   "cell_type": "code",
   "execution_count": 1,
   "metadata": {},
   "outputs": [],
   "source": [
    "from Nozzle_1D import Nozzle\n",
    "temp = Nozzle(\"inputs/Coarse_inputs.nml\")\n",
    "import matplotlib.pyplot as plt\n",
    "import numpy as np"
   ]
  },
  {
   "cell_type": "code",
   "execution_count": null,
   "metadata": {},
   "outputs": [],
   "source": []
  },
  {
   "cell_type": "code",
   "execution_count": null,
   "metadata": {},
   "outputs": [],
   "source": []
  },
  {
   "cell_type": "code",
   "execution_count": 2,
   "metadata": {},
   "outputs": [
    {
     "name": "stdout",
     "output_type": "stream",
     "text": [
      "Conserved to primitive is valid\n",
      "Nu is valid\n",
      "[1.18321596 1.18321596 1.18321596 1.18321596 1.18321596 1.18321596\n",
      " 1.18321596 1.18321596 1.18321596 1.18321596 1.18321596 1.18321596\n",
      " 1.18321596 1.18321596 1.18321596 1.18321596 1.18321596 1.18321596\n",
      " 1.18321596 1.18321596 1.18321596 1.18321596 1.18321596 1.18321596\n",
      " 1.18321596 1.18321596 1.18321596 1.18321596 1.18321596 1.18321596\n",
      " 1.18321596 1.18321596 1.18321596 1.18321596 1.18321596 1.18321596\n",
      " 1.18321596 1.18321596 1.18321596 1.18321596 1.18321596 1.18321596\n",
      " 1.18321596 1.18321596 1.18321596 1.18321596 1.18321596 1.18321596\n",
      " 1.18321596 1.18321596 1.18321596 1.18321596 1.18321596 1.18321596\n",
      " 1.18321596 1.18321596 1.18321596 1.18321596 1.18321596 1.18321596\n",
      " 1.18321596 1.18321596 1.18321596 1.18321596 1.18321596 1.18321596\n",
      " 1.18321596 1.18321596 1.18321596 1.18321596 1.18321596 1.18321596\n",
      " 1.18321596 1.18321596 1.18321596 1.18321596 1.18321596 1.18321596\n",
      " 1.18321596 1.18321596 1.18321596 1.18321596 1.18321596 1.18321596\n",
      " 1.18321596 1.18321596 1.18321596 1.18321596 1.18321596 1.18321596\n",
      " 1.18321596 1.18321596 1.18321596 1.18321596 1.18321596 1.18321596\n",
      " 1.18321596 1.18321596 1.18321596 1.18321596]\n",
      "Lambda function is valid\n"
     ]
    }
   ],
   "source": [
    "temp.test_variable_changes()\n",
    "temp.test_nu()\n",
    "temp.test_lambda_ibar()"
   ]
  },
  {
   "cell_type": "code",
   "execution_count": 3,
   "metadata": {},
   "outputs": [
    {
     "name": "stdout",
     "output_type": "stream",
     "text": [
      "[1.18321596 1.18321596 1.18321596 1.18321596 1.18321596 1.18321596\n",
      " 1.18321596 1.18321596 1.18321596 1.18321596 1.18321596 1.18321596\n",
      " 1.18321596 1.18321596 1.18321596 1.18321596 1.18321596 1.18321596\n",
      " 1.18321596 1.18321596 1.18321596 1.18321596 1.18321596 1.18321596\n",
      " 1.18321596 1.18321596 1.18321596 1.18321596 1.18321596 1.18321596\n",
      " 1.18321596 1.18321596 1.18321596 1.18321596 1.18321596 1.18321596\n",
      " 1.18321596 1.18321596 1.18321596 1.18321596 1.18321596 1.18321596\n",
      " 1.18321596 1.18321596 1.18321596 1.18321596 1.18321596 1.18321596\n",
      " 1.18321596 1.18321596 1.18321596 1.18321596 1.18321596 1.18321596\n",
      " 1.18321596 1.18321596 1.18321596 1.18321596 1.18321596 1.18321596\n",
      " 1.18321596 1.18321596 1.18321596 1.18321596 1.18321596 1.18321596\n",
      " 1.18321596 1.18321596 1.18321596 1.18321596 1.18321596 1.18321596\n",
      " 1.18321596 1.18321596 1.18321596 1.18321596 1.18321596 1.18321596\n",
      " 1.18321596 1.18321596 1.18321596 1.18321596 1.18321596 1.18321596\n",
      " 1.18321596 1.18321596 1.18321596 1.18321596 1.18321596 1.18321596\n",
      " 1.18321596 1.18321596 1.18321596 1.18321596 1.18321596 1.18321596\n",
      " 1.18321596 1.18321596 1.18321596 1.18321596]\n",
      "Lambda function is valid\n"
     ]
    }
   ],
   "source": [
    "temp.set_geometry()\n",
    "temp.set_initial_conditions()\n",
    "temp.set_boundary_conditions()\n",
    "\n",
    "R1 = temp.iteration_step()\n",
    "temp.set_boundary_conditions()\n",
    "temp.test_lambda_ibar()"
   ]
  },
  {
   "cell_type": "code",
   "execution_count": null,
   "metadata": {},
   "outputs": [],
   "source": []
  },
  {
   "cell_type": "markdown",
   "metadata": {},
   "source": [
    "print(temp.V)"
   ]
  },
  {
   "cell_type": "code",
   "execution_count": 4,
   "metadata": {},
   "outputs": [
    {
     "name": "stdout",
     "output_type": "stream",
     "text": [
      "1.0018305402657646\n",
      "7.5085941463540715\n",
      "18.439002088592545\n",
      "52.41788573784048\n",
      "236.72154283743663\n",
      "861.3789433479463\n"
     ]
    },
    {
     "name": "stderr",
     "output_type": "stream",
     "text": [
      "/home/aaron99/anaconda3/envs/PyTorch/lib/python3.11/site-packages/numpy/linalg/linalg.py:2582: RuntimeWarning: overflow encountered in multiply\n",
      "  s = (x.conj() * x).real\n",
      "/home/aaron99/src/CFD/AOE_6145/CFD/CFD_HW2/Nozzle_1D.py:64: RuntimeWarning: overflow encountered in multiply\n",
      "  F = np.column_stack((rho * u, rho * u**2 + p, rho * u * ht))\n",
      "/home/aaron99/src/CFD/AOE_6145/CFD/CFD_HW2/Nozzle_1D.py:272: RuntimeWarning: overflow encountered in multiply\n",
      "  return np.tile(self.lambda_ibar(shift=1)*self.epsilon2(shift=1),(3,1)).T*(temp_U[2:]-temp_U[1:-1])\n",
      "/home/aaron99/src/CFD/AOE_6145/CFD/CFD_HW2/Nozzle_1D.py:274: RuntimeWarning: overflow encountered in multiply\n",
      "  return np.tile(self.lambda_ibar(shift=-1)*self.epsilon2(shift=-1),(3,1)).T*(temp_U[1:-1]-temp_U[0:-2])\n",
      "/home/aaron99/src/CFD/AOE_6145/CFD/CFD_HW2/Nozzle_1D.py:216: RuntimeWarning: invalid value encountered in add\n",
      "  F_plus_1_2 = (self.F[2:]+self.F[1:-1])/2 + d_plus_half\n",
      "/home/aaron99/src/CFD/AOE_6145/CFD/CFD_HW2/Nozzle_1D.py:217: RuntimeWarning: invalid value encountered in add\n",
      "  F_minus_1_2 = (self.F[0:-2]+self.F[1:-1])/2 +d_minus_half\n",
      "/home/aaron99/src/CFD/AOE_6145/CFD/CFD_HW2/Nozzle_1D.py:75: RuntimeWarning: overflow encountered in square\n",
      "  p = (self.gamma - 1) * (conserved[:,2] - 0.5 * rho * u**2)  # Pressure\n",
      "/home/aaron99/src/CFD/AOE_6145/CFD/CFD_HW2/Nozzle_1D.py:61: RuntimeWarning: overflow encountered in square\n",
      "  et = p / ((self.gamma - 1) * rho) + 0.5 * u**2\n",
      "/home/aaron99/src/CFD/AOE_6145/CFD/CFD_HW2/Nozzle_1D.py:62: RuntimeWarning: overflow encountered in square\n",
      "  ht = (self.gamma / (self.gamma - 1)) * (p / rho) + 0.5 * u**2\n",
      "/home/aaron99/src/CFD/AOE_6145/CFD/CFD_HW2/Nozzle_1D.py:64: RuntimeWarning: overflow encountered in square\n",
      "  F = np.column_stack((rho * u, rho * u**2 + p, rho * u * ht))\n",
      "/home/aaron99/src/CFD/AOE_6145/CFD/CFD_HW2/Nozzle_1D.py:311: RuntimeWarning: invalid value encountered in add\n",
      "  den =  pi_plus1+2*pi+pi_minus1\n",
      "/home/aaron99/src/CFD/AOE_6145/CFD/CFD_HW2/Nozzle_1D.py:313: RuntimeWarning: invalid value encountered in divide\n",
      "  return np.abs(num/den)\n"
     ]
    },
    {
     "name": "stdout",
     "output_type": "stream",
     "text": [
      "nan\n",
      "nan\n",
      "nan\n",
      "nan\n",
      "nan\n",
      "nan\n",
      "nan\n",
      "nan\n",
      "nan\n",
      "nan\n"
     ]
    },
    {
     "ename": "KeyboardInterrupt",
     "evalue": "",
     "output_type": "error",
     "traceback": [
      "\u001b[0;31m---------------------------------------------------------------------------\u001b[0m",
      "\u001b[0;31mKeyboardInterrupt\u001b[0m                         Traceback (most recent call last)",
      "Cell \u001b[0;32mIn[4], line 5\u001b[0m\n\u001b[1;32m      2\u001b[0m changecfl_tolerance \u001b[38;5;241m=\u001b[39m \u001b[38;5;241m.01\u001b[39m\n\u001b[1;32m      3\u001b[0m \u001b[38;5;28;01mfor\u001b[39;00m i \u001b[38;5;129;01min\u001b[39;00m \u001b[38;5;28mrange\u001b[39m(\u001b[38;5;241m300000\u001b[39m):\n\u001b[0;32m----> 5\u001b[0m     R \u001b[38;5;241m=\u001b[39m \u001b[43mtemp\u001b[49m\u001b[38;5;241;43m.\u001b[39;49m\u001b[43miteration_step\u001b[49m\u001b[43m(\u001b[49m\u001b[43m)\u001b[49m\n\u001b[1;32m      6\u001b[0m     \u001b[38;5;28;01mif\u001b[39;00m i\u001b[38;5;241m%\u001b[39m\u001b[38;5;241m100\u001b[39m \u001b[38;5;241m==\u001b[39m \u001b[38;5;241m0\u001b[39m:\n\u001b[1;32m      7\u001b[0m         \u001b[38;5;28mprint\u001b[39m(np\u001b[38;5;241m.\u001b[39mmax(R\u001b[38;5;241m/\u001b[39mR1))\n",
      "File \u001b[0;32m~/src/CFD/AOE_6145/CFD/CFD_HW2/Nozzle_1D.py:232\u001b[0m, in \u001b[0;36mNozzle.iteration_step\u001b[0;34m(self, return_error, local_timestep)\u001b[0m\n\u001b[1;32m    230\u001b[0m \u001b[38;5;28mself\u001b[39m\u001b[38;5;241m.\u001b[39mU[\u001b[38;5;241m0\u001b[39m],\u001b[38;5;28mself\u001b[39m\u001b[38;5;241m.\u001b[39mU[\u001b[38;5;241m-\u001b[39m\u001b[38;5;241m1\u001b[39m] \u001b[38;5;241m=\u001b[39m \u001b[38;5;28mself\u001b[39m\u001b[38;5;241m.\u001b[39mextrapolate1(\u001b[38;5;28mself\u001b[39m\u001b[38;5;241m.\u001b[39mU)\n\u001b[1;32m    231\u001b[0m \u001b[38;5;28mself\u001b[39m\u001b[38;5;241m.\u001b[39mV \u001b[38;5;241m=\u001b[39m \u001b[38;5;28mself\u001b[39m\u001b[38;5;241m.\u001b[39mconserved_to_primitive(\u001b[38;5;28mself\u001b[39m\u001b[38;5;241m.\u001b[39mU)\n\u001b[0;32m--> 232\u001b[0m \u001b[38;5;28;43mself\u001b[39;49m\u001b[38;5;241;43m.\u001b[39;49m\u001b[43mupdate_source\u001b[49m\u001b[43m(\u001b[49m\u001b[43m)\u001b[49m\n\u001b[1;32m    233\u001b[0m \u001b[38;5;28;01mif\u001b[39;00m return_error:\n\u001b[1;32m    234\u001b[0m     \u001b[38;5;28;01mreturn\u001b[39;00m np\u001b[38;5;241m.\u001b[39mlinalg\u001b[38;5;241m.\u001b[39mnorm(residual,axis\u001b[38;5;241m=\u001b[39m\u001b[38;5;241m0\u001b[39m)\n",
      "File \u001b[0;32m~/src/CFD/AOE_6145/CFD/CFD_HW2/Nozzle_1D.py:237\u001b[0m, in \u001b[0;36mNozzle.update_source\u001b[0;34m(self)\u001b[0m\n\u001b[1;32m    233\u001b[0m     \u001b[38;5;28;01mif\u001b[39;00m return_error:\n\u001b[1;32m    234\u001b[0m         \u001b[38;5;28;01mreturn\u001b[39;00m np\u001b[38;5;241m.\u001b[39mlinalg\u001b[38;5;241m.\u001b[39mnorm(residual,axis\u001b[38;5;241m=\u001b[39m\u001b[38;5;241m0\u001b[39m)\n\u001b[0;32m--> 237\u001b[0m \u001b[38;5;28;01mdef\u001b[39;00m \u001b[38;5;21mupdate_source\u001b[39m(\u001b[38;5;28mself\u001b[39m):\n\u001b[1;32m    238\u001b[0m     deltax \u001b[38;5;241m=\u001b[39m np\u001b[38;5;241m.\u001b[39mabs(\u001b[38;5;28mself\u001b[39m\u001b[38;5;241m.\u001b[39mx[\u001b[38;5;241m2\u001b[39m]\u001b[38;5;241m-\u001b[39m\u001b[38;5;28mself\u001b[39m\u001b[38;5;241m.\u001b[39mx[\u001b[38;5;241m1\u001b[39m])\n\u001b[1;32m    239\u001b[0m     \u001b[38;5;28mself\u001b[39m\u001b[38;5;241m.\u001b[39mS[:,\u001b[38;5;241m1\u001b[39m] \u001b[38;5;241m=\u001b[39m \u001b[38;5;28mself\u001b[39m\u001b[38;5;241m.\u001b[39mV[\u001b[38;5;241m1\u001b[39m:\u001b[38;5;241m-\u001b[39m\u001b[38;5;241m1\u001b[39m,\u001b[38;5;241m2\u001b[39m]\u001b[38;5;241m*\u001b[39m(\u001b[38;5;28mself\u001b[39m\u001b[38;5;241m.\u001b[39mA[\u001b[38;5;241m1\u001b[39m:]\u001b[38;5;241m-\u001b[39m\u001b[38;5;28mself\u001b[39m\u001b[38;5;241m.\u001b[39mA[\u001b[38;5;241m0\u001b[39m:\u001b[38;5;241m-\u001b[39m\u001b[38;5;241m1\u001b[39m])\u001b[38;5;241m/\u001b[39mdeltax\n",
      "\u001b[0;31mKeyboardInterrupt\u001b[0m: "
     ]
    }
   ],
   "source": [
    "convergence_history = []\n",
    "changecfl_tolerance = .01\n",
    "for i in range(300000):\n",
    "    \n",
    "    R = temp.iteration_step()\n",
    "    if i%100 == 0:\n",
    "        print(np.max(R/R1))\n",
    "        convergence_history.append(R/R1)\n",
    "    temp.set_boundary_conditions()\n",
    "    if np.max(R/R1)<10e-12:\n",
    "        print(\"Converged\")\n",
    "        break\n",
    "p_compute = temp.V[:,2]\n",
    "u_compute = temp.V[:,1]\n",
    "rho_compute = temp.V[:,0]\n",
    "plt.plot(p_compute[1:],\"-o\")\n"
   ]
  },
  {
   "cell_type": "code",
   "execution_count": null,
   "metadata": {},
   "outputs": [],
   "source": [
    "ch = np.array(convergence_history)\n",
    "plt.semilogy(ch[:,0])"
   ]
  },
  {
   "cell_type": "code",
   "execution_count": null,
   "metadata": {},
   "outputs": [],
   "source": [
    "rho,u,p = temp.exact_isentropic()\n",
    "p = np.array(p)"
   ]
  },
  {
   "cell_type": "code",
   "execution_count": null,
   "metadata": {},
   "outputs": [],
   "source": [
    "p_average = (p[1:]+p[0:-1])/2\n",
    "plt.plot(p_average-p_compute[1:-1])"
   ]
  },
  {
   "cell_type": "code",
   "execution_count": null,
   "metadata": {},
   "outputs": [],
   "source": [
    "plt.plot(p_compute)\n",
    "plt.plot(p_average)"
   ]
  },
  {
   "cell_type": "code",
   "execution_count": null,
   "metadata": {},
   "outputs": [],
   "source": [
    "temp.nu().shape"
   ]
  }
 ],
 "metadata": {
  "kernelspec": {
   "display_name": "PyTorch",
   "language": "python",
   "name": "python3"
  },
  "language_info": {
   "codemirror_mode": {
    "name": "ipython",
    "version": 3
   },
   "file_extension": ".py",
   "mimetype": "text/x-python",
   "name": "python",
   "nbconvert_exporter": "python",
   "pygments_lexer": "ipython3",
   "version": "3.11.5"
  }
 },
 "nbformat": 4,
 "nbformat_minor": 2
}
