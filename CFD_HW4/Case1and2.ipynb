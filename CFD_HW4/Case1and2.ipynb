{
 "cells": [
  {
   "cell_type": "code",
   "execution_count": null,
   "metadata": {},
   "outputs": [],
   "source": [
    "from Nozzle_1D import Nozzle\n",
    "import matplotlib.pyplot as plt\n",
    "import numpy as np\n",
    "import pickle"
   ]
  },
  {
   "cell_type": "code",
   "execution_count": null,
   "metadata": {},
   "outputs": [],
   "source": [
    "tolerance = 1e-12"
   ]
  },
  {
   "cell_type": "code",
   "execution_count": null,
   "metadata": {},
   "outputs": [],
   "source": [
    "np.where(np.linspace(0,1,1000)>1)"
   ]
  },
  {
   "cell_type": "code",
   "execution_count": null,
   "metadata": {},
   "outputs": [],
   "source": [
    "# Initialize MEDIUM ISENTROPIC CASE\n",
    "MEDIUM_ISENTROPIC = Nozzle(\"inputs/Medium_inputs.nml\")\n",
    "MEDIUM_ISENTROPIC.CFL = .1\n",
    "MEDIUM_ISENTROPIC.p_back = 120\n",
    "MEDIUM_ISENTROPIC.local_timestep = True\n",
    "MEDIUM_ISENTROPIC.iter_max = 100000\n",
    "MEDIUM_ISENTROPIC.flat_initial_mach = True\n",
    "# RUN MEDIUM SIMULATION\n",
    "p_compute_Medium,u_compute_Medium,rho_compute_Medium,p_exact_Medium,\\\n",
    "    u_exact_Medium,rho_exact_Medium,convergence_history_Medium = MEDIUM_ISENTROPIC.RUN_SIMULATION(verbose = True)"
   ]
  },
  {
   "cell_type": "code",
   "execution_count": null,
   "metadata": {},
   "outputs": [],
   "source": [
    "plt.plot(MEDIUM_ISENTROPIC.temp_plot)"
   ]
  },
  {
   "cell_type": "code",
   "execution_count": null,
   "metadata": {},
   "outputs": [],
   "source": [
    "plt.semilogy(convergence_history_Medium)"
   ]
  },
  {
   "cell_type": "code",
   "execution_count": null,
   "metadata": {},
   "outputs": [],
   "source": [
    "p_compute_Medium[-1]"
   ]
  },
  {
   "cell_type": "code",
   "execution_count": null,
   "metadata": {},
   "outputs": [],
   "source": [
    "#plt.plot(p_compute_Medium,\"-\")\n",
    "plt.plot(MEDIUM_ISENTROPIC.x[1:],p_compute_Medium[1:-1],\"-\")\n",
    "plt.title(\"Pressure plot--1D Normal Shock\")\n",
    "plt.xlabel(r\"x\")\n",
    "plt.ylabel(\"Pressure (kPa)\")"
   ]
  },
  {
   "cell_type": "code",
   "execution_count": null,
   "metadata": {},
   "outputs": [],
   "source": [
    "# Initialize MEDIUM ISENTROPIC CASE\n",
    "MEDIUM_ISENTROPIC = Nozzle(\"inputs/Medium_inputs.nml\")\n",
    "MEDIUM_ISENTROPIC.CFL = .03\n",
    "# RUN MEDIUM SIMULATION\n",
    "p_compute_Medium,u_compute_Medium,rho_compute_Medium,p_exact_Medium,\\\n",
    "    u_exact_Medium,rho_exact_Medium,convergence_history_Medium = MEDIUM_ISENTROPIC.RUN_SIMULATION(verbose = True,convergence_criteria=tolerance,jameson_damping = False,iter_max=100000,first_order=False)"
   ]
  },
  {
   "cell_type": "markdown",
   "metadata": {},
   "source": []
  },
  {
   "cell_type": "code",
   "execution_count": null,
   "metadata": {},
   "outputs": [],
   "source": [
    "temp = (MEDIUM_ISENTROPIC.NI-1)//2\n",
    "plt.plot(MEDIUM_ISENTROPIC.x[temp-2:temp+3],rho_compute_Medium[temp-2:temp+3],\"-o\")\n",
    "plt.title(\"Pressure plot--1D Isentropic nozzle\")\n",
    "plt.xlabel(r\"x\")\n",
    "plt.ylabel(\"Pressure (kPa)\")"
   ]
  },
  {
   "cell_type": "code",
   "execution_count": null,
   "metadata": {},
   "outputs": [],
   "source": [
    "plt.plot(MEDIUM_ISENTROPIC.x[1:],np.sqrt(p_compute_Medium[1:-1]/rho_compute_Medium[1:-1]))\n",
    "plt.title(\"Pressure plot--1D Isentropic nozzle\")\n",
    "plt.xlabel(r\"x\")\n",
    "plt.ylabel(\"Pressure (kPa)\")"
   ]
  },
  {
   "cell_type": "code",
   "execution_count": null,
   "metadata": {},
   "outputs": [],
   "source": [
    "convergence_history_Medium"
   ]
  },
  {
   "cell_type": "code",
   "execution_count": null,
   "metadata": {},
   "outputs": [],
   "source": [
    "plt.semilogy(convergence_history_Medium)\n",
    "\n",
    "# Add labels and title\n",
    "plt.xlabel('Iterations (100x)')\n",
    "plt.ylabel('Error (log scale)')\n",
    "plt.title('Convergence History (Isentropic)')\n",
    "\n",
    "# Add legend\n",
    "plt.legend([\"Density\", \"Velocity\", \"Pressure\"])\n",
    "\n",
    "# Add grid for better readability\n",
    "plt.grid(True, which=\"both\", linestyle=\"--\", linewidth=0.7)"
   ]
  },
  {
   "cell_type": "code",
   "execution_count": null,
   "metadata": {},
   "outputs": [],
   "source": [
    "# Initialize MEDIUM NON-ISENTROPIC CASE\n",
    "MEDIUM_NON_ISENTROPIC = Nozzle(\"inputs/Medium_inputs.nml\")\n",
    "\n",
    "# Manually change back pressure\n",
    "MEDIUM_NON_ISENTROPIC.p_back = 120 #kPa\n",
    "\n",
    "# RUN MEDIUM SIMULATION\n",
    "p_compute_Medium,u_compute_Medium,rho_compute_Medium,p_exact_Medium,\\\n",
    "    u_exact_Medium,rho_exact_Medium,convergence_history_Medium = MEDIUM_NON_ISENTROPIC.RUN_SIMULATION(verbose = True,convergence_criteria=tolerance)"
   ]
  },
  {
   "cell_type": "code",
   "execution_count": null,
   "metadata": {},
   "outputs": [],
   "source": [
    "plt.plot(MEDIUM_NON_ISENTROPIC.x[1:],p_compute_Medium[1:-1])\n",
    "plt.title(\"Pressure plot--1D nozzle with shocks\")\n",
    "plt.xlabel(r\"x\")\n",
    "plt.ylabel(\"Pressure (kPa)\")"
   ]
  },
  {
   "cell_type": "code",
   "execution_count": null,
   "metadata": {},
   "outputs": [],
   "source": [
    "plt.semilogy(convergence_history_Medium)\n",
    "\n",
    "# Add labels and title\n",
    "plt.xlabel('Iterations (100x)')\n",
    "plt.ylabel('Error (log scale)')\n",
    "plt.title('Convergence History (Non-Isentropic)')\n",
    "\n",
    "# Add legend\n",
    "plt.legend([\"Density\", \"Velocity\", \"Pressure\"])\n",
    "\n",
    "# Add grid for better readability\n",
    "plt.grid(True, which=\"both\", linestyle=\"--\", linewidth=0.7)"
   ]
  },
  {
   "cell_type": "code",
   "execution_count": null,
   "metadata": {},
   "outputs": [],
   "source": [
    "import numpy as np\n",
    "import scipy.sparse as sp\n",
    "import scipy.sparse.linalg as spla\n",
    "\n",
    "def poisson_2d(n):\n",
    "    h = 1 / (n + 1)  # Grid spacing\n",
    "    N = n * n  # Total unknowns\n",
    "\n",
    "    # Discrete Laplacian operator (5-point stencil)\n",
    "    main_diag = 4 * np.ones(N)\n",
    "    off_diag = -1 * np.ones(N - 1)\n",
    "    off_diag[np.arange(1, N) % n == 0] = 0  # Fix for boundaries\n",
    "    far_off_diag = -1 * np.ones(N - n)\n",
    "\n",
    "    A = sp.diags([main_diag, off_diag, off_diag, far_off_diag, far_off_diag], \n",
    "                 [0, -1, 1, -n, n], shape=(N, N), format=\"csr\")\n",
    "\n",
    "    # Right-hand side (forcing term, f)\n",
    "    x = np.linspace(h, 1 - h, n)\n",
    "    y = np.linspace(h, 1 - h, n)\n",
    "    X, Y = np.meshgrid(x, y, indexing=\"ij\")\n",
    "    F = np.sin(np.pi * X) * np.sin(np.pi * Y)  # Example forcing function\n",
    "    b = (h ** 2) * F.ravel()  # Flatten to 1D\n",
    "\n",
    "    # Solve the linear system\n",
    "    u = spla.spsolve(A, b)\n",
    "\n",
    "    # Reshape solution back to (n, n)\n",
    "    return u.reshape((n, n))\n",
    "\n",
    "# Example: Solve for a 10x10 grid\n",
    "solution = poisson_2d(100)\n",
    "plt.imshow(solution)"
   ]
  }
 ],
 "metadata": {
  "kernelspec": {
   "display_name": "PyTorch",
   "language": "python",
   "name": "python3"
  },
  "language_info": {
   "codemirror_mode": {
    "name": "ipython",
    "version": 3
   },
   "file_extension": ".py",
   "mimetype": "text/x-python",
   "name": "python",
   "nbconvert_exporter": "python",
   "pygments_lexer": "ipython3",
   "version": "3.11.5"
  }
 },
 "nbformat": 4,
 "nbformat_minor": 2
}
