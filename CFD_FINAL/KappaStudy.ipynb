{
 "cells": [
  {
   "cell_type": "code",
   "execution_count": 1,
   "metadata": {},
   "outputs": [],
   "source": [
    "from Nozzle_1D import Nozzle\n",
    "import matplotlib.pyplot as plt\n",
    "import numpy as np\n",
    "import pickle"
   ]
  },
  {
   "cell_type": "code",
   "execution_count": null,
   "metadata": {},
   "outputs": [],
   "source": [
    "\n",
    "# Roe 2\n",
    "NORMAL_SHOCK = Nozzle(\"inputs/Medium_inputs.nml\")\n",
    "NORMAL_SHOCK.CFL = .1\n",
    "NORMAL_SHOCK.upwind_order = 1\n",
    "NORMAL_SHOCK.local_timestep = False\n",
    "NORMAL_SHOCK.damping_scheme = 1\n",
    "NORMAL_SHOCK.flux_limiter_scheme = 1\n",
    "NORMAL_SHOCK.converge_at_second_order = 1e-6\n",
    "NORMAL_SHOCK.kappa = 0\n",
    "# RUN MEDIUM SIMULATION\n",
    "P_roe_2_kmimnus1,U_roe_2_kminus1,rho_roe_2_kminus1,_,_,_,Convergence_ROE_2 = NORMAL_SHOCK.RUN_SIMULATION(verbose = False,output_quantity=1)\n",
    "mach_roe2 = U_roe_2_kminus1/(np.sqrt(1.4*P_roe_2_kmimnus1/rho_roe_2_kminus1))"
   ]
  },
  {
   "cell_type": "code",
   "execution_count": null,
   "metadata": {},
   "outputs": [],
   "source": [
    "\n",
    "\n",
    "\n",
    "# Roe 2\n",
    "NORMAL_SHOCK = Nozzle(\"inputs/Medium_inputs.nml\")\n",
    "NORMAL_SHOCK.CFL = .1\n",
    "NORMAL_SHOCK.upwind_order = 1\n",
    "NORMAL_SHOCK.local_timestep = False\n",
    "NORMAL_SHOCK.flux_limiter_scheme = 1\n",
    "NORMAL_SHOCK.damping_scheme = 1\n",
    "NORMAL_SHOCK.converge_at_second_order = 1e-6\n",
    "NORMAL_SHOCK.kappa = 1/2\n",
    "# RUN MEDIUM SIMULATION\n",
    "P_roe_2_kmimnus1,U_roe_2_kminus1,rho_roe_2_kminus1,_,_,_,Convergence_ROE_2 = NORMAL_SHOCK.RUN_SIMULATION(verbose = False,output_quantity=1)\n",
    "mach_roe2_2 = U_roe_2_kminus1/(np.sqrt(1.4*P_roe_2_kmimnus1/rho_roe_2_kminus1))"
   ]
  },
  {
   "cell_type": "code",
   "execution_count": null,
   "metadata": {},
   "outputs": [],
   "source": [
    "\n",
    "# Roe 2\n",
    "NORMAL_SHOCK = Nozzle(\"inputs/Medium_inputs.nml\")\n",
    "NORMAL_SHOCK.CFL = .1\n",
    "NORMAL_SHOCK.upwind_order = 1\n",
    "NORMAL_SHOCK.local_timestep = True\n",
    "NORMAL_SHOCK.flux_limiter_scheme = 1\n",
    "NORMAL_SHOCK.damping_scheme = 1\n",
    "NORMAL_SHOCK.converge_at_second_order = 1e-6\n",
    "NORMAL_SHOCK.kappa = -1\n",
    "# RUN MEDIUM SIMULATION\n",
    "P_roe_2_kmimnus1,U_roe_2_kminus1,rho_roe_2_kminus1,_,_,_,Convergence_ROE_2 = NORMAL_SHOCK.RUN_SIMULATION(verbose = False,output_quantity=1)\n",
    "mach_roe2_3 = U_roe_2_kminus1/(np.sqrt(1.4*P_roe_2_kmimnus1/rho_roe_2_kminus1))\n",
    "\n"
   ]
  },
  {
   "cell_type": "code",
   "execution_count": null,
   "metadata": {},
   "outputs": [],
   "source": [
    "\n",
    "\n",
    "# Roe 2\n",
    "NORMAL_SHOCK = Nozzle(\"inputs/Medium_inputs.nml\")\n",
    "NORMAL_SHOCK.CFL = .1\n",
    "NORMAL_SHOCK.upwind_order = 1\n",
    "NORMAL_SHOCK.local_timestep = True\n",
    "NORMAL_SHOCK.flux_limiter_scheme = 1\n",
    "NORMAL_SHOCK.damping_scheme = 1\n",
    "NORMAL_SHOCK.converge_at_second_order = 1e-6\n",
    "NORMAL_SHOCK.kappa = 1\n",
    "# RUN MEDIUM SIMULATION\n",
    "P_roe_2_kmimnus1,U_roe_2_kminus1,rho_roe_2_kminus1,_,_,_,Convergence_ROE_2 = NORMAL_SHOCK.RUN_SIMULATION(verbose =False,output_quantity=1)\n",
    "mach_roe2_4 = U_roe_2_kminus1/(np.sqrt(1.4*P_roe_2_kmimnus1/rho_roe_2_kminus1))"
   ]
  },
  {
   "cell_type": "code",
   "execution_count": null,
   "metadata": {},
   "outputs": [],
   "source": [
    "l = [36100,36119,36124,36121]"
   ]
  },
  {
   "cell_type": "code",
   "execution_count": null,
   "metadata": {},
   "outputs": [],
   "source": [
    "\n",
    "plt.plot(mach_roe2[33:42])\n",
    "plt.plot(mach_roe2_2[33:42])\n",
    "#plt.plot(P_roe_2_kmimnus1[33:42])"
   ]
  },
  {
   "cell_type": "code",
   "execution_count": null,
   "metadata": {},
   "outputs": [],
   "source": [
    "\n",
    "NORMAL_SHOCK = Nozzle(\"inputs/Medium_inputs.nml\")\n",
    "NORMAL_SHOCK.CFL = .2\n",
    "NORMAL_SHOCK.upwind_order = 1\n",
    "NORMAL_SHOCK.local_timestep = True\n",
    "NORMAL_SHOCK.damping_scheme = 1\n",
    "NORMAL_SHOCK.kappa = 1\n",
    "# RUN MEDIUM SIMULATION\n",
    "_,_,_,_,_,_,Convergence_Leer_2 = NORMAL_SHOCK.RUN_SIMULATION(verbose = False,output_quantity=1)"
   ]
  },
  {
   "cell_type": "code",
   "execution_count": null,
   "metadata": {},
   "outputs": [],
   "source": [
    "Lee2 =[13735,13422,13430,13741]\n",
    "ROE2 = [43664,43663,43664,43663]"
   ]
  },
  {
   "cell_type": "code",
   "execution_count": null,
   "metadata": {},
   "outputs": [],
   "source": [
    "\n",
    "# Set up the 2x2 grid of subplots\n",
    "fig, axs = plt.subplots(1, 2, figsize=(12, 4))\n",
    "fig.suptitle(f\"Normal Shock Pressure Comparison \\n(Kappa ={NORMAL_SHOCK.kappa}; NI=100)\", fontsize=14)\n",
    "\n",
    "# Common x-axis values\n",
    "x = np.linspace(-1, 1, 102)\n",
    "\n",
    "# Top row: Roe\n",
    "axs[0].plot(x, p_ROE_order2, color='tab:red')\n",
    "axs[0].set_title(\"Roe 2nd Order\")\n",
    "axs[0].set_xlabel(\"x\")\n",
    "axs[0].set_ylabel(\"Pressure (kPa)\")\n",
    "axs[0].grid(True)\n",
    "\n",
    "axs[1].plot(x, p_VanLeer_order2, color='tab:green')\n",
    "axs[1].set_title(\"Van Leer 2nd Order\")\n",
    "axs[1].set_xlabel(\"x\")\n",
    "axs[1].set_ylabel(\"Pressure (kPa)\")\n",
    "axs[1].grid(True)\n"
   ]
  }
 ],
 "metadata": {
  "kernelspec": {
   "display_name": "PyTorch",
   "language": "python",
   "name": "python3"
  },
  "language_info": {
   "codemirror_mode": {
    "name": "ipython",
    "version": 3
   },
   "file_extension": ".py",
   "mimetype": "text/x-python",
   "name": "python",
   "nbconvert_exporter": "python",
   "pygments_lexer": "ipython3",
   "version": "3.11.5"
  }
 },
 "nbformat": 4,
 "nbformat_minor": 2
}
